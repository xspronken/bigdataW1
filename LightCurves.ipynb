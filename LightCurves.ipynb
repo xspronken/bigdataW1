{
  "nbformat": 4,
  "nbformat_minor": 0,
  "metadata": {
    "colab": {
      "name": "LightCurves.ipynb",
      "provenance": [],
      "collapsed_sections": [],
      "authorship_tag": "ABX9TyMVuANINrk/YFDc717VZ7BA",
      "include_colab_link": true
    },
    "kernelspec": {
      "name": "python3",
      "display_name": "Python 3"
    }
  },
  "cells": [
    {
      "cell_type": "markdown",
      "metadata": {
        "id": "view-in-github",
        "colab_type": "text"
      },
      "source": [
        "<a href=\"https://colab.research.google.com/github/xspronken/bigdataW1/blob/master/LightCurves.ipynb\" target=\"_parent\"><img src=\"https://colab.research.google.com/assets/colab-badge.svg\" alt=\"Open In Colab\"/></a>"
      ]
    },
    {
      "cell_type": "code",
      "metadata": {
        "id": "NV9748Q4gVTf",
        "colab_type": "code",
        "colab": {}
      },
      "source": [
        "import numpy as np\n",
        "import requests\n",
        "import matplotlib.pyplot as plt\n",
        "import matplotlib.animation as animation\n",
        "import pandas as p\n",
        "from astroquery.mast import Tesscut\n",
        "from astropy.coordinates import SkyCoord\n",
        "from astropy.wcs import WCS\n",
        "from IPython.display import display, HTML\n",
        "from matplotlib import rc\n",
        "from IPython.display import HTML\n",
        "rc('animation', html='jshtml')\n",
        "\n",
        "%matplotlib inline"
      ],
      "execution_count": 0,
      "outputs": []
    },
    {
      "cell_type": "markdown",
      "metadata": {
        "id": "q23DZSCZ5kcA",
        "colab_type": "text"
      },
      "source": [
        "Input a known id of object you want to study here (TIC, TOI, Planet or star name; ex: \"CoRoT-1 b\", \"TIC 186812530\", \"TOI 101.01\"  )"
      ]
    },
    {
      "cell_type": "code",
      "metadata": {
        "id": "YWUls4Nb2s0L",
        "colab_type": "code",
        "colab": {}
      },
      "source": [
        "object_id = \"TIC 261105201\"\n",
        "\n",
        "\n",
        "\n",
        "#databases used to fecth information about the target\n",
        "planeturl = \"https://exo.mast.stsci.edu/api/v0.1/exoplanets/\"\n",
        "dvurl = \"https://exo.mast.stsci.edu/api/v0.1/dvdata/tess/\"\n",
        "header={}\n",
        "\n",
        "url = planeturl + \"/identifiers/\"\n",
        "\n",
        "myparams = {\"name\":object_id}\n",
        "\n",
        "r = requests.get(url = url, params = myparams, headers = header)\n",
        "\n",
        "#fetches ID, coordinates and TCE associated with the object\n",
        "object_names = r.json()\n",
        "ticid = object_names['tessID']\n",
        "tce = object_names['tessTCE']\n",
        "ra = object_names['ra']\n",
        "dec = object_names['dec']\n",
        "coord = SkyCoord(ra, dec, unit = \"deg\")\n",
        "\n",
        "#fetches all the ffi frames available for this object\n",
        "cutout_hdu = Tesscut.get_cutouts(coord, 10)\n"
      ],
      "execution_count": 0,
      "outputs": []
    },
    {
      "cell_type": "markdown",
      "metadata": {
        "id": "mG74DfmX5umv",
        "colab_type": "text"
      },
      "source": [
        "These functions will retrieve the light curves and FFI cutouts associated to the target in all the sectors in which the target can be found. "
      ]
    },
    {
      "cell_type": "code",
      "metadata": {
        "id": "c2b4W1Vh3EOc",
        "colab_type": "code",
        "colab": {}
      },
      "source": [
        "sector_light_curves (ticid)\n",
        "sector_ffi_1st_frame (cutout_hdu)"
      ],
      "execution_count": 0,
      "outputs": []
    },
    {
      "cell_type": "markdown",
      "metadata": {
        "id": "7fgDzwVk6fQ4",
        "colab_type": "text"
      },
      "source": [
        "If you wish to animate the ffi frames for the target you can use the function below. The arguments taken are the sector of the FFI cutout you wish to animate, the starting date and the end date (BTJD time).  The animation takes a lot of time depending on the amount of frames you wish to animate."
      ]
    },
    {
      "cell_type": "code",
      "metadata": {
        "id": "4juhSWn56RxQ",
        "colab_type": "code",
        "colab": {}
      },
      "source": [
        "#animate_ffi(sector, start, end)"
      ],
      "execution_count": 0,
      "outputs": []
    },
    {
      "cell_type": "markdown",
      "metadata": {
        "id": "CrmcAfwf-wtc",
        "colab_type": "text"
      },
      "source": [
        "Below are all the functions used."
      ]
    },
    {
      "cell_type": "code",
      "metadata": {
        "id": "b-Xp6kRP3QYR",
        "colab_type": "code",
        "colab": {}
      },
      "source": [
        "def sector_light_curves (ticid):\n",
        "  #fetches all the sectors in which we can find the target TCE\n",
        "  url = dvurl + str(ticid) + '/tces/'\n",
        "  myparams = {\"tce\" : tce}\n",
        "\n",
        "  r = requests.get(url = url, params = myparams, headers = header)\n",
        "  sectorInfo = r.json()\n",
        "  sectors = [x[:11] for x in sectorInfo[\"TCE\"] if tce in x]\n",
        "  print (\"Number of sectors searches available: %i\" % len(sectors))\n",
        "  \n",
        "# Loop that prints the light curves for each sector\n",
        "  if(len(sectors) != 0 ):\n",
        "    for z in range (len(sectors)):\n",
        "      url = dvurl + str(ticid) + '/info/'\n",
        "      myparams = {\"tce\" : tce,\n",
        "                  \"sector\" : sectors[z]}\n",
        "\n",
        "      r = requests.get(url = url, params = myparams, headers = header)\n",
        "      tceInfo = r.json()\n",
        "      tceInfo.keys()\n",
        "      tceInfo['DV Data Header'].keys()\n",
        "      \n",
        "      print (\"\\nSector: \" + sectors[z])\n",
        "\n",
        "      \n",
        "      # Get The data for the light curve\n",
        "      url = dvurl + str(ticid) + '/table/'\n",
        "      myparams = {\"tce\" : tce,\n",
        "                  \"sector\" : sectors[z]}\n",
        "      r = requests.get(url = url, params = myparams, headers = header)\n",
        "      tce_data = r.json()\n",
        "      data = p.DataFrame.from_dict(tce_data['data'])\n",
        "      detrend = data['LC_DETREND']\n",
        "      model = data['MODEL_INIT']\n",
        "      time = data['TIME']\n",
        "      \n",
        "      #Plot the light curve\n",
        "      plt.figure(figsize=(14,4))\n",
        "      plt.plot(time,detrend,'.',lw=0.4)\n",
        "      plt.plot(time,model,'r-',lw=0.6)\n",
        "      plt.xlabel('TIME (BTJD)')\n",
        "      plt.ylabel('Relative Flux')\n",
        "      plt.title(\"Light Curve\")\n",
        "      plt.show()\n",
        "      \n",
        "      \n",
        "      #Fetch the bokeh folded light curve\n",
        "      url = dvurl + str(ticid) + '/phaseplot/'\n",
        "      myparams = {\"tce\" : tce,\n",
        "                  \"sector\" : sectors[z]}\n",
        "\n",
        "      r = requests.get(url = url, params = myparams, headers = header)\n",
        "\n",
        "      display(HTML(str(r.content.decode('utf-8'))))\n",
        "    \n",
        "  return None "
      ],
      "execution_count": 0,
      "outputs": []
    },
    {
      "cell_type": "code",
      "metadata": {
        "id": "yJd1SIfdB1ZC",
        "colab_type": "code",
        "colab": {}
      },
      "source": [
        "def sector_ffi_1st_frame (cutout_hdu):\n",
        "  for i in range(len(cutout_hdu)):\n",
        "    hdu = cutout_hdu[i]\n",
        "    print (\"First FFI frame of sector: %i\" %hdu[0].header['sector'])\n",
        "    image = hdu[1].data['FLUX'][1]\n",
        "    wcs = WCS(hdu[2].header)\n",
        "\n",
        "    fig = plt.figure(figsize = (8, 8))\n",
        "    fig.add_subplot(111, projection = wcs)\n",
        "    \n",
        "    plt.imshow(image, origin = 'lower', cmap = plt.cm.YlGnBu_r, \n",
        "           vmax = np.percentile(image, 92),\n",
        "           vmin = np.percentile(image, 5))\n",
        "\n",
        "    plt.grid(axis = 'both',color = 'white', ls = 'solid')\n",
        "\n",
        "    plt.xlabel('RA', fontsize = 12)\n",
        "    plt.ylabel('Dec', fontsize = 12)\n",
        "\n",
        "    #Marks a red dot on the location of the target in the FFI frame\n",
        "    starloc = wcs.all_world2pix([[ra,dec]],0)  \n",
        "    plt.scatter(starloc[0,0], starloc[0,1],s = 45,color = 'red')\n",
        "    plt.show()\n",
        "  return None"
      ],
      "execution_count": 0,
      "outputs": []
    },
    {
      "cell_type": "code",
      "metadata": {
        "id": "AzoeQdDuYLgq",
        "colab_type": "code",
        "colab": {}
      },
      "source": [
        "#convert the sector number to its index in cutout_hdu\n",
        "def sector_to_cutout_index(cutout_hdu, sector):\n",
        "  for i in range(len(cutout_hdu)):\n",
        "    hdu = cutout_hdu[i]\n",
        "    if (hdu[0].header['sector'] == sector):\n",
        "      break\n",
        "  return i"
      ],
      "execution_count": 0,
      "outputs": []
    },
    {
      "cell_type": "code",
      "metadata": {
        "id": "yZ98hwf-LtE8",
        "colab_type": "code",
        "colab": {}
      },
      "source": [
        "#convert BTJD dates to the corresponding FFI frames\n",
        "def find_frame(index, btjd):\n",
        "    \"\"\"\n",
        "    Given a time as a Barycentric TESS Julian Date (BTJD) timestamp, return the closest index in a table\n",
        "    that is assumed to have a TIME column that is also in BTJD\"\"\"\n",
        "    \n",
        "    return (np.abs(cutout_hdu[index][1].data['TIME'] - btjd)).argmin()"
      ],
      "execution_count": 0,
      "outputs": []
    },
    {
      "cell_type": "code",
      "metadata": {
        "id": "Epvtkkv0LtYJ",
        "colab_type": "code",
        "colab": {}
      },
      "source": [
        "def make_animation(hdu, start_frame=0, end_frame=None, vmin=None, vmax=None, delay=50):\n",
        "    \"\"\"\n",
        "    Function that takes an array where each frame is a 2D image array and make an animated plot\n",
        "    that runs through the frames.\n",
        "    \n",
        "    Note: This can take a long time to run if you have a lot of frames.    \n",
        "    Parameters\n",
        "    ----------\n",
        "    data_array : array\n",
        "        Array of 2D images.\n",
        "    start_frame : int\n",
        "        The index of the initial frame to show. Default is the first frame.\n",
        "    end_frame : int\n",
        "        The index of the final frame to show. Default is the last frame.\n",
        "    vmin : float\n",
        "        Data range min for the colormap. Defaults to data minimum value.\n",
        "    vmax : float\n",
        "        Data range max for the colormap. Defaults to data maximum value.\n",
        "    delay: \n",
        "        Delay before the next frame is shown in milliseconds.\n",
        "\n",
        "    Returns\n",
        "    -------\n",
        "    response : `animation.FuncAnimation`\n",
        "    \"\"\"\n",
        "    data_array = hdu[1].data['FLUX']\n",
        "    if not vmin:\n",
        "        vmin = np.min(data_array)\n",
        "    if not vmax:\n",
        "        vmax = np.max(data_array)\n",
        "        \n",
        "    if not end_frame:\n",
        "        end_frame = len(data_array) - 1 # set to the end of the array\n",
        "        \n",
        "    num_frames = end_frame - start_frame + 1 # include the end frame\n",
        "        \n",
        "    def animate(i, fig, ax, binarytab, start=0):\n",
        "        \"\"\"Function used to update the animation\"\"\"\n",
        "        ax.set_title(\"Frame #\" + str(i+start))\n",
        "        im = ax.imshow(binarytab[i+start], cmap=plt.cm.YlGnBu_r, vmin=vmin, vmax=vmax)\n",
        "        return im,\n",
        "    \n",
        "    # Create initial plot.\n",
        "    fig, ax = plt.subplots(figsize=(10,10))\n",
        "    ax.imshow(data_array[start_frame], cmap=plt.cm.YlGnBu_r, vmin=vmin, vmax=vmax)\n",
        "\n",
        "    ani = animation.FuncAnimation(fig, animate, fargs=(fig, ax, data_array, start_frame), frames=num_frames, \n",
        "                                  interval=delay, repeat_delay=1000)\n",
        "    \n",
        "    plt.close()\n",
        "    \n",
        "    return ani"
      ],
      "execution_count": 0,
      "outputs": []
    },
    {
      "cell_type": "code",
      "metadata": {
        "id": "b90k3sVbSGGp",
        "colab_type": "code",
        "colab": {}
      },
      "source": [
        "def animate_ffi (sector, first, last):\n",
        "  #convert the sector number to its index in cutout_hdu\n",
        "  cutout_index = sector_to_cutout_index(cutout_hdu, sector) \n",
        "  #converts BTJD dates to the corresponding ffi frame\n",
        "  start = find_frame(cutout_index, first) \n",
        "  end = find_frame(cutout_index, last)\n",
        "  print (\"Animating from frame %i\" %start + \" to frame %i\" %end)\n",
        "  return make_animation(cutout_hdu[cutout_index], start ,end)"
      ],
      "execution_count": 0,
      "outputs": []
    }
  ]
}