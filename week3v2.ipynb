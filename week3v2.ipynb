{
  "nbformat": 4,
  "nbformat_minor": 0,
  "metadata": {
    "colab": {
      "name": "week3.ipynb",
      "provenance": [],
      "toc_visible": true,
      "authorship_tag": "ABX9TyOXo0isbJJNvQEGqN3Qooq4",
      "include_colab_link": true
    },
    "kernelspec": {
      "name": "python3",
      "display_name": "Python 3"
    }
  },
  "cells": [
    {
      "cell_type": "markdown",
      "metadata": {
        "id": "view-in-github",
        "colab_type": "text"
      },
      "source": [
        "<a href=\"https://colab.research.google.com/github/xspronken/bigdataW1/blob/master/week3v2.ipynb\" target=\"_parent\"><img src=\"https://colab.research.google.com/assets/colab-badge.svg\" alt=\"Open In Colab\"/></a>"
      ]
    },
    {
      "cell_type": "markdown",
      "metadata": {
        "id": "qrGba3zpXTNs",
        "colab_type": "text"
      },
      "source": [
        "# **IMPORTS**"
      ]
    },
    {
      "cell_type": "code",
      "metadata": {
        "id": "nZe2mNmCPLsB",
        "colab_type": "code",
        "colab": {}
      },
      "source": [
        "import numpy as np\n",
        "import math as m\n",
        "import matplotlib.pyplot as plt"
      ],
      "execution_count": 0,
      "outputs": []
    },
    {
      "cell_type": "markdown",
      "metadata": {
        "id": "vE5e9aTQ8BQt",
        "colab_type": "text"
      },
      "source": [
        "# FUNCTIONS AND VARIABLES"
      ]
    },
    {
      "cell_type": "code",
      "metadata": {
        "id": "oji3R7Zokxoy",
        "colab_type": "code",
        "colab": {}
      },
      "source": [
        "''' For conversion from natural units'''\n",
        "G = 6.67*10**(-11)    # (m**3)*(kg**-1)*(s**-2)\n",
        "c = 3*10**8    # m*(s**-1)\n",
        "\n",
        "\n",
        "\n",
        "\n",
        "####################################### DEFINING VARIABLES #######################################\n",
        "\n",
        "''' Defining waveform and fourrier transform variables'''\n",
        "m1 = 10**30 # kg\n",
        "m2 = 10**30 # kg\n",
        "\n",
        "M = (m1+m2) # kg\n",
        "n = m1*m2/(M**2) #dimensionless\n",
        "M_chirp = n**(3/5)*M # kg\n",
        "t_c = 100# secs\n",
        "phi_c = 100 #rads\n",
        "\n",
        "\n",
        "#alpha coefficients as given by eq 3.4 || note that only alpha 0 to 4 have been inserted, therefore highest PN possible is 2\n",
        "alpha = [1, 0, (20/9*(743/336 + n*11/4)), -16*m.pi, 10*(3058673/1016064 + n*5429/1008 + (n**2) * 617/144)]\n",
        "PN = 1 \n",
        "\n",
        "SNR = 10\n",
        "\n",
        "\n",
        "''' Defining Power Spectral Density S(f) of Initial Ligo and its variables'''\n",
        "# as given in the paper eq 3.8\n",
        "\n",
        "fs = 40 # Hz\n",
        "f0 = 150 # Hz\n",
        "s0 = 9**(-46) #Hz**-1\n",
        "\n",
        "def S(f):\n",
        "  x = f/f0\n",
        "  if (f >= fs):\n",
        "    return s0*((4.49*x)**(-56)+0.16*x**(-4.52)+0.52+0.32*x**2)\n",
        "  else: \n",
        "    return float('inf')\n",
        "\n",
        "\n",
        "''' defining upper and lower cut-off frequencies''' \n",
        "# Limits of  the integrals used to fill in the Fischer information Matrix and calulating A\n",
        "\n",
        "F_high = (6**(3/2)*m.pi*M*G*(c**-3))**-1 # eq 3.6 || assuming the to constants to be dimensionless and M being in kg we multiply by g*c**-3 to get Hz as a final result\n",
        "F_low = fs\n",
        "\n",
        "\n",
        "''' Computing the variable A '''\n",
        "\n",
        "def compute_A(SNR, dx):\n",
        "  #perform integral using trapezoidal sums\n",
        "  accumulator = 0\n",
        "  for i in range (int(F_low/dx), int(F_high/dx - 1)):\n",
        "   x = i*dx\n",
        "   fi = (x**(-7/6) / (S(x)))\n",
        "   fi2 = ((x + dx)**(-7/6) / (S(x + dx)))\n",
        "   accumulator += dx * (fi + fi2)/2\n",
        "  # divide SNR by integral multiplied by 4\n",
        "  A = m.sqrt(SNR/(4*accumulator))\n",
        "  \n",
        "  print (\"A = \", A, \"\\n\")\n",
        "  return A\n",
        "\n",
        "\n",
        "\n",
        "\n",
        "''' Defining the list of independent parameters processed into the matrix''' \n",
        "\n",
        "teta = [t_c, phi_c, M_chirp, n]\n",
        "\n",
        "''' Defining the Fourrier transform h(f) and it's waveform psi'''\n",
        "\n",
        "def h(f, A, params, x):\n",
        "  #defining the waveform's variables with respect to which h(f) will be partially derived \n",
        "  #make sure they correspond to the values inserted previously into teta\n",
        "  \n",
        "  t_c, phi_c, M_chirp, n = params\n",
        "  \n",
        "  M = M_chirp*n**(-3/5)  \n",
        "  \n",
        "  v = (m.pi*M*f*G/c**3)**(1/3) # eq. 3.3 || v is dimensionless, M in kg, F in Hz || multiplying by G/c**3 converts to the right units\n",
        "  \n",
        "  #sum of all coefficients (alpha) in the fourrier phase\n",
        "  x *= 2\n",
        "  sum_alpha = 0\n",
        "  for i in range(x):\n",
        "    sum_alpha += (alpha[i] * (v**i))\n",
        "  \n",
        "  #defining the waveform psi(f) || this waveform can be modified along with the variables defined previously \n",
        "  psi =  2*m.pi*f*t_c - phi_c - m.pi/4 + 3/(128*n*v**5)*sum_alpha\n",
        "\n",
        "  return  A * f**(-7/6) * m.e**(1j * psi)\n",
        "\n",
        "\n",
        "\n",
        "\n",
        "####################################### COMPUTATIONS #######################################\n",
        "\n",
        "''' Calculating the partial derivative of h(f) '''\n",
        "def h_partial(f, A, params, x):   \n",
        "  dx = params[x]/100\n",
        "  dparams = params.copy()\n",
        "  dparams[x] += dx\n",
        "  dy = h(f, A, dparams, PN)-h(f, A, params, PN)\n",
        "  return dy/dx\n",
        "\n",
        "''' Generating the Fischer information matrix '''\n",
        "def generate_matrix(A, params, dx):\n",
        "  \n",
        "# create a  n*n matrix where n is the number of observables\n",
        "  n = len(params)\n",
        "  matrix = np.empty([n,n]) \n",
        "  \n",
        "# Start filling the matrix\n",
        "  for i in range (n):\n",
        "    for j in range (n):\n",
        "      \n",
        "      #start integration (again with trap sums) using eq 2.11 of the paper as a reference instead of the plug and play\n",
        "      accumulator = 0\n",
        "      for k in range(int(F_low/dx), int(F_high/dx-1)):\n",
        "        x1 = k*dx\n",
        "        part_i1 = h_partial(x1, A, params,i)\n",
        "        part_j1 = h_partial(x1, A, params,j)\n",
        "        f1 = ((part_i1 * np.conj(part_j1))+(np.conj(part_i1) * part_j1))/S(x1)  \n",
        "        \n",
        "        x2 = k*dx + dx \n",
        "        part_i2 = h_partial(x2, A, params,i)\n",
        "        part_j2 = h_partial(x2, A, params,j)\n",
        "        f2 = ((part_i2 * np.conj(part_j2))+(np.conj(part_i2) * part_j2))/S(x2)\n",
        "        \n",
        "        accumulator += np.real(dx * (f1 + f2)/2)\n",
        "      \n",
        "      #once integration is done add it to the matrix\n",
        "      matrix[i][j] = accumulator*2\n",
        "  print(\"Fischer matrix : \\n\",  matrix)\n",
        "  return matrix\n",
        "\n",
        "\n",
        "''' Extract the diagonal elements from the inverted Fischer matrix'''\n",
        "\n",
        "def extract_from_matrix(matrix):\n",
        "  #invert matrix\n",
        "  y = np.linalg.inv(matrix) \n",
        "  z = []\n",
        "  \n",
        "  #fetch the square root of diagonal elements\n",
        "  for i in range (len(y)):\n",
        "    z.append(m.sqrt(y[i][i]))\n",
        "  \n",
        "  return z\n",
        "\n",
        "\n",
        "####################################### Exercise 3 functions ############################################\n",
        "\n",
        "def fetch_ligo(nb_col):\n",
        "  if nb_col > 6 or nb_col < 1:\n",
        "    print('invalid column number, column number was reset to default (6)')\n",
        "    nb_col = 6\n",
        "  data = []\n",
        "  freq = []\n",
        "  sens = []\n",
        "  f = open('LIGO.txt')\n",
        "  lines = f.readlines()\n",
        "  for x in range(len(lines)):\n",
        "    line = list(map(float,lines[x].split()))\n",
        "    data.append(line)\n",
        "  for y in range(len(data)):\n",
        "    freq.append(data[y][0])\n",
        "    sens.append(data[y][nb_col])\n",
        "  \n",
        "  return freq, sens\n",
        "\n",
        "\n",
        "def fetch_einstein(nb_col):\n",
        "  if nb_col > 3 or nb_col < 1:\n",
        "    print('invalid column number, column number was reset to default (3)')\n",
        "    nb_col = 3\n",
        "  data = []\n",
        "  freq = []\n",
        "  sens = []\n",
        "  final = []\n",
        "  f = open('EINSTEIN.txt')\n",
        "  lines = f.readlines()\n",
        "  for x in range(len(lines)):\n",
        "    line = list(map(float,lines[x].split()))\n",
        "    data.append(line)\n",
        "  for y in range(len(data)):\n",
        "    freq.append(data[y][0])\n",
        "    sens.append(data[y][nb_col])\n",
        "  \n",
        "  return freq, sens\n",
        "\n",
        "  ''' the functions defining A and the fischer matrix are modified to accept data loaded from eintein telescope or ligo '''\n",
        "\n",
        "def compute_A_2(data, SNR):\n",
        "  #perform integral using trapezoidal sums\n",
        "  accumulator = 0\n",
        "  for x in range(len(data[0])-1) : # possible to do this because data[0] and data[1] ahve the same length\n",
        "   freq = data[0][x]\n",
        "   sens = data[1][x]\n",
        "   fi = (freq**(-7/6) / sens)\n",
        "  \n",
        "   freq2 = data[0][x+1]\n",
        "   sens2 = data[1][x+1]\n",
        "   fi2 = (freq2**(-7/6) / sens2)\n",
        "     \n",
        "   accumulator += (freq2-freq) * (fi + fi2)/2\n",
        "  \n",
        "  # divide SNR by integral multiplied by 4\n",
        "  A = m.sqrt(SNR/(4*accumulator))\n",
        "  \n",
        "  print (\"A = \", A, \"\\n\")\n",
        "  return A\n",
        "\n",
        "\n",
        "def generate_matrix_2(A, params, data):\n",
        " \n",
        "# create a  n*n matrix where n is the number of observables\n",
        "  n = len(params)\n",
        "  matrix = np.empty([n,n]) \n",
        "  \n",
        "# Start filling the matrix\n",
        "  for i in range (n):\n",
        "    for j in range (n):\n",
        "      \n",
        "      #start integration (again with trap sums) using eq 2.11 of the paper as a reference instead of the plug and play\n",
        "      accumulator = 0\n",
        "      for k in range(len(data[0])-1):\n",
        "        freq = data[0][k]\n",
        "        sens = data[1][k]\n",
        "        part_i1 = h_partial(freq, A, params,i)\n",
        "        part_j1 = h_partial(freq, A, params,j)\n",
        "        f1 = (part_i1*np.conj(part_j1) + np.conj(part_i1)*part_j1)/sens  \n",
        "        \n",
        "        freq2 = data[0][k+1]\n",
        "        sens2 = data[1][k+1]\n",
        "        part_i2 = h_partial(freq2, A, params,i)\n",
        "        part_j2 = h_partial(freq2, A, params,j)\n",
        "        f2 = ((part_i2 * np.conj(part_j2))+(np.conj(part_i2) * part_j2))/sens2\n",
        "        \n",
        "        accumulator += np.real((freq2-freq) * (f1 + f2)/2)\n",
        "      \n",
        "      #once integration is done add it to the matrix\n",
        "      matrix[i][j] = accumulator*2\n",
        "  print(\"Fischer matrix : \\n\",  matrix, \"\\n\")\n",
        "  return matrix\n",
        "\n",
        "def comparison_plot(diagLigo, diagEinstein):\n",
        "  y = list(zip(diagLigo, diagEinstein))\n",
        "  x = [\"Ligo\", \"Einstein\"]\n",
        "  for i in range(len(y)):\n",
        "    plt.figure()\n",
        "    plt.title(\"Parameter %i\" %i)\n",
        "    plt.plot(x, y[i],'o')\n",
        "    plt.ylabel('Measurability')\n",
        "    plt.xlabel(\"Telescope\")\n",
        "    plt.show \n",
        "  return None\n",
        "\n"
      ],
      "execution_count": 0,
      "outputs": []
    },
    {
      "cell_type": "markdown",
      "metadata": {
        "id": "P5vhMeXt8IB1",
        "colab_type": "text"
      },
      "source": [
        "# EXERCISE 1 / 2"
      ]
    },
    {
      "cell_type": "code",
      "metadata": {
        "id": "IFkeaXiDp9Bh",
        "colab_type": "code",
        "colab": {
          "base_uri": "https://localhost:8080/",
          "height": 168
        },
        "outputId": "c1038466-91d1-4d31-d3e6-c320ac42355d"
      },
      "source": [
        "print(\"teta : t_c, phi_c, M, n: \", teta)\n",
        "A = compute_A(10, 0.001)  # Inputs are SNR and increment used for integrating with trap sums\n",
        "fischer = generate_matrix(A, teta, 0.1)\n",
        "Results = extract_from_matrix(fischer)\n",
        "print(\"Results for PN =\", PN, \" : \" ,Results)"
      ],
      "execution_count": 23,
      "outputs": [
        {
          "output_type": "stream",
          "text": [
            "teta : t_c, phi_c, M, n:  [100, 100, 2000000000000000000000000000000, 0.25]\n",
            "A =  2.331029579377938e-22 \n",
            "\n",
            "Fischer matrix : \n",
            " [[5.65236943e-02 1.29855392e-02 1.43440504e-30 1.14343116e+01]\n",
            " [1.29855392e-02 2.59837484e-02 6.50297090e-31 5.21538539e+00]\n",
            " [1.43440504e-30 6.50297090e-31 1.41439798e-58 5.63737301e-28]\n",
            " [1.14343116e+01 5.21538539e+00 5.63737301e-28 9.07077481e+03]]\n",
            "Results for PN = 1  :  [5.242343341038053, 6.817949829675521, 1.0434526672746667e+29, 0.013012671068597343]\n"
          ],
          "name": "stdout"
        }
      ]
    },
    {
      "cell_type": "code",
      "metadata": {
        "id": "BBCyNzqjl35x",
        "colab_type": "code",
        "colab": {
          "base_uri": "https://localhost:8080/",
          "height": 151
        },
        "outputId": "dcf4cbe5-2226-48a3-883e-152c21e11c6a"
      },
      "source": [
        "print(\"teta : t_c, phi_c, M: \", teta)\n",
        "A = compute_A(10, 0.001)  # Inputs are SNR and increment used for integrating with trap sums\n",
        "fischer = generate_matrix(A, teta, 0.1)\n",
        "Results = extract_from_matrix(fischer)\n",
        "print(\"Results for PN =\", PN, \" : \" ,Results)"
      ],
      "execution_count": 25,
      "outputs": [
        {
          "output_type": "stream",
          "text": [
            "teta : t_c, phi_c, M:  [100, 100, 2000000000000000000000000000000]\n",
            "A =  2.331029579377938e-22 \n",
            "\n",
            "Fischer matrix : \n",
            " [[5.65236943e-02 1.29855392e-02 1.43440504e-30]\n",
            " [1.29855392e-02 2.59837484e-02 6.50297090e-31]\n",
            " [1.43440504e-30 6.50297090e-31 1.41439798e-58]]\n",
            "Results for PN = 1  :  [4.987507066625157, 6.7387874596557005, 9.971844129541572e+28]\n"
          ],
          "name": "stdout"
        }
      ]
    },
    {
      "cell_type": "markdown",
      "metadata": {
        "id": "JU0H5CchYRFc",
        "colab_type": "text"
      },
      "source": [
        "# EXERCISE 3"
      ]
    },
    {
      "cell_type": "code",
      "metadata": {
        "id": "xhdz8bxpqp-3",
        "colab_type": "code",
        "colab": {
          "base_uri": "https://localhost:8080/",
          "height": 1000
        },
        "outputId": "261b1b62-1147-45c8-f902-f7a892f8c8f3"
      },
      "source": [
        "A1 = compute_A_2(fetch_ligo(6), 10)\n",
        "fischer1 = generate_matrix_2(A1, teta, fetch_ligo(6))\n",
        "results1 = extract_from_matrix(fischer1)\n",
        "print(\"Ligo results for PN =\", PN, \" : \" , results1 , \"\\n\\n\")\n",
        "\n",
        "\n",
        "A2 = compute_A_2(fetch_einstein(3), 10)\n",
        "fischer2 = generate_matrix_2(A2, teta, fetch_einstein(3))\n",
        "results2 = extract_from_matrix(fischer2)\n",
        "print(\"Einstein results for PN =\", PN, \" : \" , results2)\n",
        "\n",
        "print(comparison_plot(results1,results2))"
      ],
      "execution_count": 73,
      "outputs": [
        {
          "output_type": "stream",
          "text": [
            "A =  2.3881660193922547e-12 \n",
            "\n",
            "Fischer matrix : \n",
            " [[1.11197721e-01 2.54916905e-02 6.58023247e-30 8.80842927e-12]\n",
            " [2.54916905e-02 5.11531396e-02 2.91518449e-30 1.08402557e-10]\n",
            " [6.58023247e-30 2.91518449e-30 1.46000246e-57 2.73730173e-40]\n",
            " [8.80842927e-12 1.08402557e-10 2.73730173e-40 4.83934243e-18]] \n",
            "\n",
            "Ligo results for PN = 1  :  [3.578954822662883, 4.932175360672527, 3.1247079979047053e+28, 467443394.98276716] \n",
            "\n",
            "\n",
            "A =  7.03025537640848e-13 \n",
            "\n",
            "Fischer matrix : \n",
            " [[ 3.38989147e-01  7.81754782e-02  1.95944353e-29 -3.94019777e-10]\n",
            " [ 7.81754782e-02  1.55944384e-01  9.64097636e-30  4.58662276e-09]\n",
            " [ 1.95944353e-29  9.64097636e-30  4.55967765e-57  8.43561750e-38]\n",
            " [-3.94019777e-10  4.58662276e-09  8.43561750e-38  2.37836956e-15]] \n",
            "\n",
            "Einstein results for PN = 1  :  [2.028100523619112, 2.866914831672517, 1.7582241846793158e+28, 21233852.37348181]\n",
            "None\n"
          ],
          "name": "stdout"
        },
        {
          "output_type": "display_data",
          "data": {
            "image/png": "[encoded data removed]",
            "text/plain": [
              "<Figure size 432x288 with 1 Axes>"
            ]
          },
          "metadata": {
            "tags": []
          }
        },
        {
          "output_type": "display_data",
          "data": {
            "image/png": "[encoded data removed]",
            "text/plain": [
              "<Figure size 432x288 with 1 Axes>"
            ]
          },
          "metadata": {
            "tags": []
          }
        },
        {
          "output_type": "display_data",
          "data": {
            "image/png": "[encoded data removed]",
            "text/plain": [
              "<Figure size 432x288 with 1 Axes>"
            ]
          },
          "metadata": {
            "tags": []
          }
        },
        {
          "output_type": "display_data",
          "data": {
            "image/png": "[encoded data removed]",
            "text/plain": [
              "<Figure size 432x288 with 1 Axes>"
            ]
          },
          "metadata": {
            "tags": []
          }
        }
      ]
    }
  ]
}