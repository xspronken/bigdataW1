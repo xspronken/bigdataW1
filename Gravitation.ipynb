{
  "nbformat": 4,
  "nbformat_minor": 0,
  "metadata": {
    "colab": {
      "name": "Untitled1.ipynb",
      "provenance": [],
      "authorship_tag": "ABX9TyNNgAaFZYoQdLxvN0k2+Qjn",
      "include_colab_link": true
    },
    "kernelspec": {
      "name": "python3",
      "display_name": "Python 3"
    }
  },
  "cells": [
    {
      "cell_type": "markdown",
      "metadata": {
        "id": "view-in-github",
        "colab_type": "text"
      },
      "source": [
        "<a href=\"https://colab.research.google.com/github/xspronken/bigdataW1/blob/master/Gravitation.ipynb\" target=\"_parent\"><img src=\"https://colab.research.google.com/assets/colab-badge.svg\" alt=\"Open In Colab\"/></a>"
      ]
    },
    {
      "cell_type": "code",
      "metadata": {
        "id": "Ogbyz5CbfuSu",
        "colab_type": "code",
        "colab": {}
      },
      "source": [
        "import numpy as np\n",
        "import math\n",
        "e = math.e\n",
        "pi = math.pi"
      ],
      "execution_count": 0,
      "outputs": []
    },
    {
      "cell_type": "code",
      "metadata": {
        "id": "oji3R7Zokxoy",
        "colab_type": "code",
        "colab": {
          "base_uri": "https://localhost:8080/",
          "height": 34
        },
        "outputId": "1d49e053-6d6a-45e3-eee4-e6582e822a58"
      },
      "source": [
        "f = \n",
        "m1 = \n",
        "m2 = \n",
        "A = \n",
        "t_c =\n",
        "phi_c = \n",
        "\n",
        "M = m1+m2\n",
        "v = (pi*M*f)**(1/3)\n",
        "n = m1*m2/(M**2)\n",
        "\n",
        "a = [1, 0, (20/9*(743/336 + n*11/4)), -16*pi, 10*(3058673/1016064 + n*5429/1008 + (n**2) * 617/144)]\n",
        "\n",
        "def sum_av(x):\n",
        "  x *= 2\n",
        "  j = 0\n",
        "  for i in range(x):\n",
        "    j += a[x]\n",
        "  return j\n",
        "\n",
        "psi_f =  2 * pi * f * t_c - phi_c - pi/4 + 3/(128*n*v**5) * sum_av(3)\n",
        "\n",
        "h_f =  A * f**((-7)/6) * e**(i * psi_f)"
      ],
      "execution_count": 5,
      "outputs": [
        {
          "output_type": "execute_result",
          "data": {
            "text/plain": [
              "2.718281828459045"
            ]
          },
          "metadata": {
            "tags": []
          },
          "execution_count": 5
        }
      ]
    }
  ]
}